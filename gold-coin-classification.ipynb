{
 "cells": [
  {
   "cell_type": "code",
   "execution_count": 1,
   "id": "5236829a",
   "metadata": {
    "_cell_guid": "b1076dfc-b9ad-4769-8c92-a6c4dae69d19",
    "_uuid": "8f2839f25d086af736a60e9eeb907d3b93b6e0e5",
    "execution": {
     "iopub.execute_input": "2023-08-11T06:52:36.137857Z",
     "iopub.status.busy": "2023-08-11T06:52:36.137386Z",
     "iopub.status.idle": "2023-08-11T06:52:43.893223Z",
     "shell.execute_reply": "2023-08-11T06:52:43.892212Z"
    },
    "papermill": {
     "duration": 7.765602,
     "end_time": "2023-08-11T06:52:43.895705",
     "exception": false,
     "start_time": "2023-08-11T06:52:36.130103",
     "status": "completed"
    },
    "tags": []
   },
   "outputs": [
    {
     "name": "stderr",
     "output_type": "stream",
     "text": [
      "/opt/conda/lib/python3.10/site-packages/scipy/__init__.py:146: UserWarning: A NumPy version >=1.16.5 and <1.23.0 is required for this version of SciPy (detected version 1.23.5\n",
      "  warnings.warn(f\"A NumPy version >={np_minversion} and <{np_maxversion}\"\n",
      "/opt/conda/lib/python3.10/site-packages/tensorflow_io/python/ops/__init__.py:98: UserWarning: unable to load libtensorflow_io_plugins.so: unable to open file: libtensorflow_io_plugins.so, from paths: ['/opt/conda/lib/python3.10/site-packages/tensorflow_io/python/ops/libtensorflow_io_plugins.so']\n",
      "caused by: ['/opt/conda/lib/python3.10/site-packages/tensorflow_io/python/ops/libtensorflow_io_plugins.so: undefined symbol: _ZN3tsl6StatusC1EN10tensorflow5error4CodeESt17basic_string_viewIcSt11char_traitsIcEENS_14SourceLocationE']\n",
      "  warnings.warn(f\"unable to load libtensorflow_io_plugins.so: {e}\")\n",
      "/opt/conda/lib/python3.10/site-packages/tensorflow_io/python/ops/__init__.py:104: UserWarning: file system plugins are not loaded: unable to open file: libtensorflow_io.so, from paths: ['/opt/conda/lib/python3.10/site-packages/tensorflow_io/python/ops/libtensorflow_io.so']\n",
      "caused by: ['/opt/conda/lib/python3.10/site-packages/tensorflow_io/python/ops/libtensorflow_io.so: undefined symbol: _ZTVN10tensorflow13GcsFileSystemE']\n",
      "  warnings.warn(f\"file system plugins are not loaded: {e}\")\n"
     ]
    }
   ],
   "source": [
    "import os\n",
    "import math\n",
    "import shutil\n",
    "import random\n",
    "import tensorflow as tf\n",
    "from tensorflow.keras.models import Sequential\n",
    "from tensorflow.keras.preprocessing.image import ImageDataGenerator\n",
    "from tensorflow.keras.layers import Conv2D, MaxPooling2D, Flatten, Dense, Dropout"
   ]
  },
  {
   "cell_type": "code",
   "execution_count": 2,
   "id": "ceef2dc9",
   "metadata": {
    "execution": {
     "iopub.execute_input": "2023-08-11T06:52:43.909550Z",
     "iopub.status.busy": "2023-08-11T06:52:43.907709Z",
     "iopub.status.idle": "2023-08-11T06:52:43.914264Z",
     "shell.execute_reply": "2023-08-11T06:52:43.913395Z"
    },
    "papermill": {
     "duration": 0.014898,
     "end_time": "2023-08-11T06:52:43.916128",
     "exception": false,
     "start_time": "2023-08-11T06:52:43.901230",
     "status": "completed"
    },
    "tags": []
   },
   "outputs": [],
   "source": [
    "# Define the directories where the data is stored for training, validation, and testing\n",
    "train_dir = '/kaggle/input/gold-coin-dataset/train_data_directory/'\n",
    "val_dir = '/kaggle/input/gold-coin-dataset/validation_data_directory/'\n",
    "test_dir = '/kaggle/input/gold-coin-dataset/test_data_directory'\n",
    "\n",
    "# Define the batch size and number of epochs for training\n",
    "batch_size = 16\n",
    "epochs = 10\n",
    "\n",
    "# Define image dimensions\n",
    "img_width, img_height = 150, 150"
   ]
  },
  {
   "cell_type": "code",
   "execution_count": 3,
   "id": "dd56deae",
   "metadata": {
    "execution": {
     "iopub.execute_input": "2023-08-11T06:52:43.928257Z",
     "iopub.status.busy": "2023-08-11T06:52:43.927376Z",
     "iopub.status.idle": "2023-08-11T06:52:43.942384Z",
     "shell.execute_reply": "2023-08-11T06:52:43.941477Z"
    },
    "papermill": {
     "duration": 0.023236,
     "end_time": "2023-08-11T06:52:43.944558",
     "exception": false,
     "start_time": "2023-08-11T06:52:43.921322",
     "status": "completed"
    },
    "tags": []
   },
   "outputs": [
    {
     "data": {
      "text/plain": [
       "['rsbl_100_995',\n",
       " 'rsbl_100_999',\n",
       " 'rsbl_10_995',\n",
       " 'rsbl_10_999',\n",
       " 'rsbl_1_995',\n",
       " 'rsbl_1_999',\n",
       " 'rsbl_20_995',\n",
       " 'rsbl_20_999',\n",
       " 'rsbl_2_995',\n",
       " 'rsbl_2_999',\n",
       " 'rsbl_50_995',\n",
       " 'rsbl_50_999',\n",
       " 'rsbl_5_995',\n",
       " 'rsbl_5_999',\n",
       " 'rsbl_8_995',\n",
       " 'rsbl_8_999']"
      ]
     },
     "execution_count": 3,
     "metadata": {},
     "output_type": "execute_result"
    }
   ],
   "source": [
    "# Get the class names from the subdirectories of the training directory\n",
    "class_names = sorted(os.listdir(train_dir))\n",
    "class_names"
   ]
  },
  {
   "cell_type": "code",
   "execution_count": 4,
   "id": "d12da2d0",
   "metadata": {
    "execution": {
     "iopub.execute_input": "2023-08-11T06:52:43.956392Z",
     "iopub.status.busy": "2023-08-11T06:52:43.956124Z",
     "iopub.status.idle": "2023-08-11T06:52:43.964281Z",
     "shell.execute_reply": "2023-08-11T06:52:43.963466Z"
    },
    "papermill": {
     "duration": 0.016541,
     "end_time": "2023-08-11T06:52:43.966291",
     "exception": false,
     "start_time": "2023-08-11T06:52:43.949750",
     "status": "completed"
    },
    "tags": []
   },
   "outputs": [
    {
     "data": {
      "text/plain": [
       "<keras.preprocessing.image.ImageDataGenerator at 0x7857082df4c0>"
      ]
     },
     "execution_count": 4,
     "metadata": {},
     "output_type": "execute_result"
    }
   ],
   "source": [
    "# Set up the data generator for training images with data augmentation\n",
    "train_datagen = ImageDataGenerator(\n",
    "    rescale=1.0 / 255,\n",
    "    shear_range=0.2,\n",
    "    zoom_range=0.2,\n",
    "    horizontal_flip=True\n",
    ")\n",
    "train_datagen"
   ]
  },
  {
   "cell_type": "code",
   "execution_count": 5,
   "id": "a58e4e45",
   "metadata": {
    "execution": {
     "iopub.execute_input": "2023-08-11T06:52:43.978228Z",
     "iopub.status.busy": "2023-08-11T06:52:43.977970Z",
     "iopub.status.idle": "2023-08-11T06:52:43.982495Z",
     "shell.execute_reply": "2023-08-11T06:52:43.981491Z"
    },
    "papermill": {
     "duration": 0.013097,
     "end_time": "2023-08-11T06:52:43.984821",
     "exception": false,
     "start_time": "2023-08-11T06:52:43.971724",
     "status": "completed"
    },
    "tags": []
   },
   "outputs": [],
   "source": [
    "# Set up the data generator for validation and testing images (only rescaling)\n",
    "validation_datagen = ImageDataGenerator(rescale=1.0 / 255)\n",
    "test_datagen = ImageDataGenerator(rescale=1.0 / 255)"
   ]
  },
  {
   "cell_type": "code",
   "execution_count": 6,
   "id": "56092e38",
   "metadata": {
    "execution": {
     "iopub.execute_input": "2023-08-11T06:52:43.996651Z",
     "iopub.status.busy": "2023-08-11T06:52:43.996377Z",
     "iopub.status.idle": "2023-08-11T06:52:44.509741Z",
     "shell.execute_reply": "2023-08-11T06:52:44.508828Z"
    },
    "papermill": {
     "duration": 0.521705,
     "end_time": "2023-08-11T06:52:44.511897",
     "exception": false,
     "start_time": "2023-08-11T06:52:43.990192",
     "status": "completed"
    },
    "tags": []
   },
   "outputs": [
    {
     "name": "stdout",
     "output_type": "stream",
     "text": [
      "Found 2585 images belonging to 16 classes.\n"
     ]
    }
   ],
   "source": [
    "train_generator = train_datagen.flow_from_directory(\n",
    "    train_dir,\n",
    "    target_size=(img_width, img_height),\n",
    "    batch_size=32,\n",
    "    class_mode='categorical',\n",
    "    classes=class_names\n",
    ")"
   ]
  },
  {
   "cell_type": "code",
   "execution_count": 7,
   "id": "4fbc7881",
   "metadata": {
    "execution": {
     "iopub.execute_input": "2023-08-11T06:52:44.524542Z",
     "iopub.status.busy": "2023-08-11T06:52:44.524225Z",
     "iopub.status.idle": "2023-08-11T06:52:44.622826Z",
     "shell.execute_reply": "2023-08-11T06:52:44.621933Z"
    },
    "papermill": {
     "duration": 0.107143,
     "end_time": "2023-08-11T06:52:44.624895",
     "exception": false,
     "start_time": "2023-08-11T06:52:44.517752",
     "status": "completed"
    },
    "tags": []
   },
   "outputs": [
    {
     "name": "stdout",
     "output_type": "stream",
     "text": [
      "Found 323 images belonging to 16 classes.\n"
     ]
    }
   ],
   "source": [
    "# Load validation data from the directory with images\n",
    "validation_generator = validation_datagen.flow_from_directory(\n",
    "    val_dir,\n",
    "    target_size=(img_width, img_height),\n",
    "    batch_size=32,\n",
    "    class_mode='categorical',\n",
    "    classes=class_names  \n",
    ")"
   ]
  },
  {
   "cell_type": "code",
   "execution_count": 8,
   "id": "a8e711a7",
   "metadata": {
    "execution": {
     "iopub.execute_input": "2023-08-11T06:52:44.637531Z",
     "iopub.status.busy": "2023-08-11T06:52:44.637237Z",
     "iopub.status.idle": "2023-08-11T06:52:44.747903Z",
     "shell.execute_reply": "2023-08-11T06:52:44.747041Z"
    },
    "papermill": {
     "duration": 0.1194,
     "end_time": "2023-08-11T06:52:44.749949",
     "exception": false,
     "start_time": "2023-08-11T06:52:44.630549",
     "status": "completed"
    },
    "tags": []
   },
   "outputs": [
    {
     "name": "stdout",
     "output_type": "stream",
     "text": [
      "Found 316 images belonging to 16 classes.\n"
     ]
    }
   ],
   "source": [
    "# Load testing data from the directory with images\n",
    "test_generator = test_datagen.flow_from_directory(\n",
    "    test_dir,\n",
    "    target_size=(img_width, img_height),\n",
    "    batch_size=32,\n",
    "    class_mode='categorical',\n",
    "    classes=class_names\n",
    ")"
   ]
  },
  {
   "cell_type": "code",
   "execution_count": 9,
   "id": "3151ac93",
   "metadata": {
    "execution": {
     "iopub.execute_input": "2023-08-11T06:52:44.762705Z",
     "iopub.status.busy": "2023-08-11T06:52:44.762408Z",
     "iopub.status.idle": "2023-08-11T06:52:48.892027Z",
     "shell.execute_reply": "2023-08-11T06:52:48.891022Z"
    },
    "papermill": {
     "duration": 4.138768,
     "end_time": "2023-08-11T06:52:48.894533",
     "exception": false,
     "start_time": "2023-08-11T06:52:44.755765",
     "status": "completed"
    },
    "tags": []
   },
   "outputs": [],
   "source": [
    "strategy = tf.distribute.MirroredStrategy()"
   ]
  },
  {
   "cell_type": "code",
   "execution_count": 10,
   "id": "68b83015",
   "metadata": {
    "execution": {
     "iopub.execute_input": "2023-08-11T06:52:48.907738Z",
     "iopub.status.busy": "2023-08-11T06:52:48.907426Z",
     "iopub.status.idle": "2023-08-11T06:52:48.915245Z",
     "shell.execute_reply": "2023-08-11T06:52:48.914362Z"
    },
    "papermill": {
     "duration": 0.016875,
     "end_time": "2023-08-11T06:52:48.917323",
     "exception": false,
     "start_time": "2023-08-11T06:52:48.900448",
     "status": "completed"
    },
    "tags": []
   },
   "outputs": [],
   "source": [
    "def create_model():\n",
    "    model = Sequential([\n",
    "        Conv2D(32, (3, 3), activation='relu', input_shape=(img_width, img_height, 3)),\n",
    "        MaxPooling2D((2, 2)),\n",
    "        Conv2D(64, (3, 3), activation='relu'),\n",
    "        MaxPooling2D((2, 2)),\n",
    "        Conv2D(128, (3, 3), activation='relu'),\n",
    "        MaxPooling2D((2, 2)),\n",
    "        Flatten(),\n",
    "        Dense(512, activation='relu'),\n",
    "        Dropout(0.5),\n",
    "        Dense(len(class_names), activation='softmax')\n",
    "    ])\n",
    "    return model"
   ]
  },
  {
   "cell_type": "code",
   "execution_count": 11,
   "id": "9db32f6c",
   "metadata": {
    "execution": {
     "iopub.execute_input": "2023-08-11T06:52:48.929670Z",
     "iopub.status.busy": "2023-08-11T06:52:48.929400Z",
     "iopub.status.idle": "2023-08-11T06:52:49.141535Z",
     "shell.execute_reply": "2023-08-11T06:52:49.140565Z"
    },
    "papermill": {
     "duration": 0.22106,
     "end_time": "2023-08-11T06:52:49.143976",
     "exception": false,
     "start_time": "2023-08-11T06:52:48.922916",
     "status": "completed"
    },
    "tags": []
   },
   "outputs": [],
   "source": [
    "# Create the model within the strategy scope\n",
    "with strategy.scope():\n",
    "    model = create_model()\n",
    "    model.compile(optimizer='adam', loss='categorical_crossentropy', metrics=['accuracy'])"
   ]
  },
  {
   "cell_type": "code",
   "execution_count": 12,
   "id": "69679eb0",
   "metadata": {
    "execution": {
     "iopub.execute_input": "2023-08-11T06:52:49.157096Z",
     "iopub.status.busy": "2023-08-11T06:52:49.156804Z",
     "iopub.status.idle": "2023-08-11T06:52:49.161873Z",
     "shell.execute_reply": "2023-08-11T06:52:49.160989Z"
    },
    "papermill": {
     "duration": 0.014287,
     "end_time": "2023-08-11T06:52:49.164257",
     "exception": false,
     "start_time": "2023-08-11T06:52:49.149970",
     "status": "completed"
    },
    "tags": []
   },
   "outputs": [
    {
     "name": "stdout",
     "output_type": "stream",
     "text": [
      "Number of GPUs Available:  2\n"
     ]
    }
   ],
   "source": [
    "import tensorflow as tf\n",
    "print(\"Number of GPUs Available: \", len(tf.config.experimental.list_physical_devices('GPU')))"
   ]
  },
  {
   "cell_type": "code",
   "execution_count": 13,
   "id": "152c3256",
   "metadata": {
    "execution": {
     "iopub.execute_input": "2023-08-11T06:52:49.177168Z",
     "iopub.status.busy": "2023-08-11T06:52:49.176320Z",
     "iopub.status.idle": "2023-08-11T07:25:11.759446Z",
     "shell.execute_reply": "2023-08-11T07:25:11.758446Z"
    },
    "papermill": {
     "duration": 1942.591742,
     "end_time": "2023-08-11T07:25:11.761569",
     "exception": false,
     "start_time": "2023-08-11T06:52:49.169827",
     "status": "completed"
    },
    "tags": []
   },
   "outputs": [
    {
     "name": "stdout",
     "output_type": "stream",
     "text": [
      "Epoch 1/10\n",
      "81/81 [==============================] - 261s 3s/step - loss: 1.4890 - accuracy: 0.5308 - val_loss: 0.7412 - val_accuracy: 0.6811\n",
      "Epoch 2/10\n",
      "81/81 [==============================] - 182s 2s/step - loss: 0.5362 - accuracy: 0.8112 - val_loss: 0.2385 - val_accuracy: 0.9257\n",
      "Epoch 3/10\n",
      "81/81 [==============================] - 181s 2s/step - loss: 0.3101 - accuracy: 0.8959 - val_loss: 0.1736 - val_accuracy: 0.9443\n",
      "Epoch 4/10\n",
      "81/81 [==============================] - 181s 2s/step - loss: 0.2269 - accuracy: 0.9188 - val_loss: 0.4553 - val_accuracy: 0.8050\n",
      "Epoch 5/10\n",
      "81/81 [==============================] - 207s 3s/step - loss: 0.1831 - accuracy: 0.9346 - val_loss: 0.0977 - val_accuracy: 0.9598\n",
      "Epoch 6/10\n",
      "81/81 [==============================] - 186s 2s/step - loss: 0.1384 - accuracy: 0.9563 - val_loss: 0.1112 - val_accuracy: 0.9598\n",
      "Epoch 7/10\n",
      "81/81 [==============================] - 174s 2s/step - loss: 0.1206 - accuracy: 0.9598 - val_loss: 0.1058 - val_accuracy: 0.9721\n",
      "Epoch 8/10\n",
      "81/81 [==============================] - 178s 2s/step - loss: 0.0804 - accuracy: 0.9741 - val_loss: 0.1010 - val_accuracy: 0.9567\n",
      "Epoch 9/10\n",
      "81/81 [==============================] - 184s 2s/step - loss: 0.0681 - accuracy: 0.9752 - val_loss: 0.0680 - val_accuracy: 0.9814\n",
      "Epoch 10/10\n",
      "81/81 [==============================] - 178s 2s/step - loss: 0.0837 - accuracy: 0.9741 - val_loss: 0.0833 - val_accuracy: 0.9659\n"
     ]
    },
    {
     "data": {
      "text/plain": [
       "<keras.callbacks.History at 0x785703a25780>"
      ]
     },
     "execution_count": 13,
     "metadata": {},
     "output_type": "execute_result"
    }
   ],
   "source": [
    "# Train the model\n",
    "model.fit(\n",
    "    train_generator,\n",
    "    steps_per_epoch=len(train_generator),\n",
    "    epochs=10,\n",
    "    validation_data=validation_generator,\n",
    "    validation_steps=len(validation_generator)\n",
    ")"
   ]
  },
  {
   "cell_type": "code",
   "execution_count": 14,
   "id": "fd36149f",
   "metadata": {
    "execution": {
     "iopub.execute_input": "2023-08-11T07:25:11.898777Z",
     "iopub.status.busy": "2023-08-11T07:25:11.898425Z",
     "iopub.status.idle": "2023-08-11T07:25:39.200905Z",
     "shell.execute_reply": "2023-08-11T07:25:39.199949Z"
    },
    "papermill": {
     "duration": 27.374307,
     "end_time": "2023-08-11T07:25:39.203123",
     "exception": false,
     "start_time": "2023-08-11T07:25:11.828816",
     "status": "completed"
    },
    "tags": []
   },
   "outputs": [
    {
     "name": "stdout",
     "output_type": "stream",
     "text": [
      "10/10 [==============================] - 25s 2s/step - loss: 0.0429 - accuracy: 0.9747\n",
      "Test Loss: 0.04288064315915108\n",
      "Test Accuracy: 0.9746835231781006\n",
      "Class Names and Indices:\n",
      "rsbl_100_995: 0\n",
      "rsbl_100_999: 1\n",
      "rsbl_10_995: 2\n",
      "rsbl_10_999: 3\n",
      "rsbl_1_995: 4\n",
      "rsbl_1_999: 5\n",
      "rsbl_20_995: 6\n",
      "rsbl_20_999: 7\n",
      "rsbl_2_995: 8\n",
      "rsbl_2_999: 9\n",
      "rsbl_50_995: 10\n",
      "rsbl_50_999: 11\n",
      "rsbl_5_995: 12\n",
      "rsbl_5_999: 13\n",
      "rsbl_8_995: 14\n",
      "rsbl_8_999: 15\n"
     ]
    }
   ],
   "source": [
    "# Evaluate the model on the test data\n",
    "loss, accuracy = model.evaluate(test_generator, steps=len(test_generator))\n",
    "print(\"Test Loss:\", loss)\n",
    "print(\"Test Accuracy:\", accuracy)\n",
    "# Get class names and their corresponding indices from the data generator\n",
    "class_names = list(test_generator.class_indices.keys())\n",
    "class_indices = test_generator.class_indices\n",
    "\n",
    "# Print class names and their corresponding indices\n",
    "print(\"Class Names and Indices:\")\n",
    "for class_name, class_index in class_indices.items():\n",
    "    print(f\"{class_name}: {class_index}\")"
   ]
  },
  {
   "cell_type": "code",
   "execution_count": 15,
   "id": "2216d87c",
   "metadata": {
    "execution": {
     "iopub.execute_input": "2023-08-11T07:25:39.343664Z",
     "iopub.status.busy": "2023-08-11T07:25:39.343303Z",
     "iopub.status.idle": "2023-08-11T07:25:39.889683Z",
     "shell.execute_reply": "2023-08-11T07:25:39.888573Z"
    },
    "papermill": {
     "duration": 0.619244,
     "end_time": "2023-08-11T07:25:39.892233",
     "exception": false,
     "start_time": "2023-08-11T07:25:39.272989",
     "status": "completed"
    },
    "tags": []
   },
   "outputs": [],
   "source": [
    "model.save('image_classification_model.h5')"
   ]
  },
  {
   "cell_type": "code",
   "execution_count": 16,
   "id": "f6155637",
   "metadata": {
    "execution": {
     "iopub.execute_input": "2023-08-11T07:25:40.085498Z",
     "iopub.status.busy": "2023-08-11T07:25:40.085132Z",
     "iopub.status.idle": "2023-08-11T07:25:46.698147Z",
     "shell.execute_reply": "2023-08-11T07:25:46.697194Z"
    },
    "papermill": {
     "duration": 6.736632,
     "end_time": "2023-08-11T07:25:46.700241",
     "exception": false,
     "start_time": "2023-08-11T07:25:39.963609",
     "status": "completed"
    },
    "tags": []
   },
   "outputs": [
    {
     "name": "stdout",
     "output_type": "stream",
     "text": [
      "1/1 [==============================] - 0s 232ms/step\n",
      "Test Image: /kaggle/input/gold-coin-dataset2/test_data_directory/rsbl_100_995/mZleE3miKa.jpg\n",
      "Predicted Class: rsbl_100_995\n",
      "\n",
      "1/1 [==============================] - 0s 21ms/step\n",
      "Test Image: /kaggle/input/gold-coin-dataset2/test_data_directory/rsbl_100_995/IMG_20191114_142746.jpg\n",
      "Predicted Class: rsbl_100_995\n",
      "\n",
      "1/1 [==============================] - 0s 21ms/step\n",
      "Test Image: /kaggle/input/gold-coin-dataset2/test_data_directory/rsbl_100_999/fc16I8WiZt.png\n",
      "Predicted Class: rsbl_100_999\n",
      "\n",
      "1/1 [==============================] - 0s 20ms/step\n",
      "Test Image: /kaggle/input/gold-coin-dataset2/test_data_directory/rsbl_100_999/IMG_20191114_143455.jpg\n",
      "Predicted Class: rsbl_100_999\n",
      "\n",
      "1/1 [==============================] - 0s 20ms/step\n",
      "Test Image: /kaggle/input/gold-coin-dataset2/test_data_directory/rsbl_10_995/_F0A5535 - Copy (6).png\n",
      "Predicted Class: rsbl_8_995\n",
      "\n",
      "1/1 [==============================] - 0s 20ms/step\n",
      "Test Image: /kaggle/input/gold-coin-dataset2/test_data_directory/rsbl_10_995/_F0A5535 - Copy.png\n",
      "Predicted Class: rsbl_8_995\n",
      "\n",
      "1/1 [==============================] - 0s 20ms/step\n",
      "Test Image: /kaggle/input/gold-coin-dataset2/test_data_directory/rsbl_10_999/_F0A5370 - Copy.png\n",
      "Predicted Class: rsbl_10_999\n",
      "\n",
      "1/1 [==============================] - 0s 20ms/step\n",
      "Test Image: /kaggle/input/gold-coin-dataset2/test_data_directory/rsbl_10_999/_F0A5370.png\n",
      "Predicted Class: rsbl_10_999\n",
      "\n",
      "1/1 [==============================] - 0s 20ms/step\n",
      "Test Image: /kaggle/input/gold-coin-dataset2/test_data_directory/rsbl_1_995/_F0A5323 - Copy (5).png\n",
      "Predicted Class: rsbl_2_995\n",
      "\n",
      "1/1 [==============================] - 0s 20ms/step\n",
      "Test Image: /kaggle/input/gold-coin-dataset2/test_data_directory/rsbl_1_995/_F0A5323 - Copy (7).png\n",
      "Predicted Class: rsbl_2_995\n",
      "\n",
      "1/1 [==============================] - 0s 26ms/step\n",
      "Test Image: /kaggle/input/gold-coin-dataset2/test_data_directory/rsbl_1_999/_F0A5272.png\n",
      "Predicted Class: rsbl_1_999\n",
      "\n",
      "1/1 [==============================] - 0s 20ms/step\n",
      "Test Image: /kaggle/input/gold-coin-dataset2/test_data_directory/rsbl_1_999/_F0A5258.png\n",
      "Predicted Class: rsbl_1_999\n",
      "\n",
      "1/1 [==============================] - 0s 20ms/step\n",
      "Test Image: /kaggle/input/gold-coin-dataset2/test_data_directory/rsbl_20_995/IMG_20191114_145439.jpg\n",
      "Predicted Class: rsbl_20_995\n",
      "\n",
      "1/1 [==============================] - 0s 20ms/step\n",
      "Test Image: /kaggle/input/gold-coin-dataset2/test_data_directory/rsbl_20_995/IMG_20191114_145430.jpg\n",
      "Predicted Class: rsbl_20_995\n",
      "\n",
      "1/1 [==============================] - 0s 20ms/step\n",
      "Test Image: /kaggle/input/gold-coin-dataset2/test_data_directory/rsbl_20_999/RNnxiOOngo.jpg\n",
      "Predicted Class: rsbl_20_999\n",
      "\n",
      "1/1 [==============================] - 0s 19ms/step\n",
      "Test Image: /kaggle/input/gold-coin-dataset2/test_data_directory/rsbl_20_999/U0tpm8qHbI.jpg\n",
      "Predicted Class: rsbl_20_999\n",
      "\n",
      "1/1 [==============================] - 0s 20ms/step\n",
      "Test Image: /kaggle/input/gold-coin-dataset2/test_data_directory/rsbl_2_995/IMG_20191120_143809.jpg\n",
      "Predicted Class: rsbl_2_995\n",
      "\n",
      "1/1 [==============================] - 0s 20ms/step\n",
      "Test Image: /kaggle/input/gold-coin-dataset2/test_data_directory/rsbl_2_995/IMG_20191108_162346.jpg\n",
      "Predicted Class: rsbl_2_995\n",
      "\n",
      "1/1 [==============================] - 0s 22ms/step\n",
      "Test Image: /kaggle/input/gold-coin-dataset2/test_data_directory/rsbl_2_999/IMG_20191108_165419.jpg\n",
      "Predicted Class: rsbl_2_999\n",
      "\n",
      "1/1 [==============================] - 0s 20ms/step\n",
      "Test Image: /kaggle/input/gold-coin-dataset2/test_data_directory/rsbl_2_999/IMG_20191108_165614_1.jpg\n",
      "Predicted Class: rsbl_2_999\n",
      "\n",
      "1/1 [==============================] - 0s 20ms/step\n",
      "Test Image: /kaggle/input/gold-coin-dataset2/test_data_directory/rsbl_50_995/TNqXkDXk59.jpg\n",
      "Predicted Class: rsbl_50_995\n",
      "\n",
      "1/1 [==============================] - 0s 19ms/step\n",
      "Test Image: /kaggle/input/gold-coin-dataset2/test_data_directory/rsbl_50_995/tNTVGnQlDX.jpg\n",
      "Predicted Class: rsbl_50_995\n",
      "\n",
      "1/1 [==============================] - 0s 21ms/step\n",
      "Test Image: /kaggle/input/gold-coin-dataset2/test_data_directory/rsbl_50_999/_F0A5408.png\n",
      "Predicted Class: rsbl_50_999\n",
      "\n",
      "1/1 [==============================] - 0s 20ms/step\n",
      "Test Image: /kaggle/input/gold-coin-dataset2/test_data_directory/rsbl_50_999/_F0A5383.png\n",
      "Predicted Class: rsbl_50_999\n",
      "\n",
      "1/1 [==============================] - 0s 19ms/step\n",
      "Test Image: /kaggle/input/gold-coin-dataset2/test_data_directory/rsbl_5_995/ZhQITeHvZq.jpg\n",
      "Predicted Class: rsbl_5_995\n",
      "\n",
      "1/1 [==============================] - 0s 20ms/step\n",
      "Test Image: /kaggle/input/gold-coin-dataset2/test_data_directory/rsbl_5_995/IMG_20191108_155045_1.jpg\n",
      "Predicted Class: rsbl_5_995\n",
      "\n",
      "1/1 [==============================] - 0s 21ms/step\n",
      "Test Image: /kaggle/input/gold-coin-dataset2/test_data_directory/rsbl_5_999/IMG_20191120_150501_1.jpg\n",
      "Predicted Class: rsbl_5_999\n",
      "\n",
      "1/1 [==============================] - 0s 21ms/step\n",
      "Test Image: /kaggle/input/gold-coin-dataset2/test_data_directory/rsbl_5_999/IMG_20191108_160955.jpg\n",
      "Predicted Class: rsbl_5_999\n",
      "\n",
      "1/1 [==============================] - 0s 24ms/step\n",
      "Test Image: /kaggle/input/gold-coin-dataset2/test_data_directory/rsbl_8_995/vPfUVFjNXI - Copy (9).png\n",
      "Predicted Class: rsbl_8_995\n",
      "\n",
      "1/1 [==============================] - 0s 20ms/step\n",
      "Test Image: /kaggle/input/gold-coin-dataset2/test_data_directory/rsbl_8_995/vPfUVFjNXI - Copy (4).png\n",
      "Predicted Class: rsbl_8_995\n",
      "\n",
      "1/1 [==============================] - 0s 21ms/step\n",
      "Test Image: /kaggle/input/gold-coin-dataset2/test_data_directory/rsbl_8_999/_F0A5351 - Copy (4).png\n",
      "Predicted Class: rsbl_10_999\n",
      "\n",
      "1/1 [==============================] - 0s 21ms/step\n",
      "Test Image: /kaggle/input/gold-coin-dataset2/test_data_directory/rsbl_8_999/_F0A5351 - Copy (5).png\n",
      "Predicted Class: rsbl_10_999\n",
      "\n"
     ]
    }
   ],
   "source": [
    "import os\n",
    "import random\n",
    "import numpy as np\n",
    "import tensorflow as tf\n",
    "from tensorflow.keras.preprocessing.image import load_img, img_to_array\n",
    "from tensorflow.keras.models import load_model\n",
    "\n",
    "# Define the class names (replace with your class names)\n",
    "class_names = sorted(os.listdir(\"/kaggle/input/gold-coin-dataset/train_data_directory/\"))\n",
    "\n",
    "# Load the trained model\n",
    "model = load_model('image_classification_model.h5')\n",
    "\n",
    "# Define the test directory\n",
    "test_dir = \"/kaggle/input/gold-coin-dataset2/test_data_directory/\"\n",
    "\n",
    "# Get the list of class subdirectories in the test directory\n",
    "class_dirs = sorted(os.listdir(test_dir))\n",
    "\n",
    "# Test two random images from each class\n",
    "for class_dir in class_dirs:\n",
    "    # Create the full path to the class subdirectory\n",
    "    class_path = os.path.join(test_dir, class_dir)\n",
    "\n",
    "    # Get the list of image file names in the class subdirectory\n",
    "    image_files = os.listdir(class_path)\n",
    "\n",
    "    # Check if there are at least two images in the class\n",
    "    if len(image_files) < 2:\n",
    "        print(f\"Not enough images in class '{class_dir}'. Skipping testing.\")\n",
    "        continue\n",
    "\n",
    "    # Select two random images from the class\n",
    "    random_image_files = random.sample(image_files, 2)\n",
    "\n",
    "    for image_file in random_image_files:\n",
    "        # Create the full path to the test image\n",
    "        test_image_path = os.path.join(class_path, image_file)\n",
    "\n",
    "        # Load and preprocess the test image\n",
    "        img = load_img(test_image_path, target_size=(150, 150))\n",
    "        img_array = img_to_array(img)\n",
    "        img_array = np.expand_dims(img_array, axis=0)\n",
    "        img_array = img_array / 255.0  # Rescale pixel values to [0, 1]\n",
    "\n",
    "        # Make the prediction\n",
    "        predictions = model.predict(img_array)\n",
    "        predicted_class_index = np.argmax(predictions[0])\n",
    "        predicted_class = class_names[predicted_class_index]\n",
    "\n",
    "        print(\"Test Image:\", test_image_path)\n",
    "        print(\"Predicted Class:\", predicted_class)\n",
    "        print()"
   ]
  },
  {
   "cell_type": "code",
   "execution_count": null,
   "id": "4c155b42",
   "metadata": {
    "papermill": {
     "duration": 0.075623,
     "end_time": "2023-08-11T07:25:46.855063",
     "exception": false,
     "start_time": "2023-08-11T07:25:46.779440",
     "status": "completed"
    },
    "tags": []
   },
   "outputs": [],
   "source": []
  }
 ],
 "metadata": {
  "kernelspec": {
   "display_name": "Python 3",
   "language": "python",
   "name": "python3"
  },
  "language_info": {
   "codemirror_mode": {
    "name": "ipython",
    "version": 3
   },
   "file_extension": ".py",
   "mimetype": "text/x-python",
   "name": "python",
   "nbconvert_exporter": "python",
   "pygments_lexer": "ipython3",
   "version": "3.10.12"
  },
  "papermill": {
   "default_parameters": {},
   "duration": 2003.695189,
   "end_time": "2023-08-11T07:25:49.993269",
   "environment_variables": {},
   "exception": null,
   "input_path": "__notebook__.ipynb",
   "output_path": "__notebook__.ipynb",
   "parameters": {},
   "start_time": "2023-08-11T06:52:26.298080",
   "version": "2.4.0"
  }
 },
 "nbformat": 4,
 "nbformat_minor": 5
}
